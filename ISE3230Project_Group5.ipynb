{
 "cells": [
  {
   "cell_type": "code",
   "execution_count": 22,
   "id": "0e91b645",
   "metadata": {},
   "outputs": [
    {
     "name": "stdout",
     "output_type": "stream",
     "text": [
      "Fuel = 100\n",
      "Obj_func: 100.8\n",
      "x = [-0.  0.  1.]\n",
      "\n",
      "Fuel = 90\n",
      "Obj_func: 100.8\n",
      "x = [-0.  0.  1.]\n",
      "\n",
      "Fuel = 80\n",
      "Obj_func: 100.8\n",
      "x = [-0.  0.  1.]\n",
      "\n",
      "Fuel = 70\n",
      "Obj_func: 100.8\n",
      "x = [-0.  0.  1.]\n",
      "\n",
      "Fuel = 60\n",
      "Obj_func: 100.8\n",
      "x = [-0.  0.  1.]\n",
      "\n",
      "Fuel = 50\n",
      "Obj_func: 55.6\n",
      "x = [0. 1. 0.]\n",
      "\n",
      "Fuel = 40\n",
      "Obj_func: 55.6\n",
      "x = [0. 1. 0.]\n",
      "\n",
      "Fuel = 30\n",
      "Obj_func: 55.6\n",
      "x = [0. 1. 0.]\n",
      "\n",
      "Fuel = 20\n",
      "Obj_func: 55.6\n",
      "x = [0. 1. 0.]\n",
      "\n",
      "Fuel = 10\n",
      "Obj_func: 55.6\n",
      "x = [0. 1. 0.]\n",
      "\n",
      "Fuel = 0\n",
      "Obj_func: None\n",
      "x = None\n",
      "\n"
     ]
    }
   ],
   "source": [
    "import cvxpy as cp\n",
    "\n",
    "for f in range(100, -10, -10):\n",
    "\n",
    "    x = cp.Variable(3, integer = True)\n",
    "\n",
    "    a = [54, 55.6, 100.8]\n",
    "\n",
    "    obj_func = (a[0] * x[0]) + (a[1] * x[1]) + (a[2] * x[2])\n",
    "    \n",
    "    constraints = []\n",
    "    constraints.append( x[0] + x[1] + x[2] == 1)\n",
    "    \n",
    "    constraints.append(x[0] >= 0)\n",
    "    constraints.append(x[0] <= 1)\n",
    "    \n",
    "    constraints.append(x[1] >= 0)\n",
    "    constraints.append(x[1] <= 1)\n",
    "    \n",
    "    constraints.append(x[2] >= 0)\n",
    "    constraints.append(x[2] <= 1)\n",
    "    \n",
    "    constraints.append( f >= 5*(x[0]))\n",
    "    constraints.append( f >= 10*(x[1]))\n",
    "    constraints.append( f >= 60*(x[2]))\n",
    "\n",
    "\n",
    "    problem = cp.Problem(cp.Maximize(obj_func), constraints)\n",
    "    problem.solve(solver=cp.GUROBI, verbose = False)\n",
    "\n",
    "    print(\"Fuel =\", f)\n",
    "    print(\"Obj_func:\", obj_func.value)\n",
    "    print(\"x =\", x.value)\n",
    "    print()"
   ]
  },
  {
   "cell_type": "code",
   "execution_count": null,
   "id": "752d855d",
   "metadata": {},
   "outputs": [],
   "source": []
  }
 ],
 "metadata": {
  "kernelspec": {
   "display_name": "Python 3 (ipykernel)",
   "language": "python",
   "name": "python3"
  },
  "language_info": {
   "codemirror_mode": {
    "name": "ipython",
    "version": 3
   },
   "file_extension": ".py",
   "mimetype": "text/x-python",
   "name": "python",
   "nbconvert_exporter": "python",
   "pygments_lexer": "ipython3",
   "version": "3.9.17"
  }
 },
 "nbformat": 4,
 "nbformat_minor": 5
}
